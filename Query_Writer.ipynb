{
 "cells": [
  {
   "cell_type": "code",
   "execution_count": 1,
   "id": "2d982c18",
   "metadata": {},
   "outputs": [],
   "source": [
    "%load_ext sql\n",
    "%sql sqlite:///AuctionBase.db"
   ]
  },
  {
   "cell_type": "code",
   "execution_count": 3,
   "id": "4b67be3c",
   "metadata": {
    "scrolled": true
   },
   "outputs": [
    {
     "name": "stdout",
     "output_type": "stream",
     "text": [
      " * sqlite:///AuctionBase.db\n",
      "Done.\n"
     ]
    },
    {
     "data": {
      "text/html": [
       "<table>\n",
       "    <thead>\n",
       "        <tr>\n",
       "            <th>sql</th>\n",
       "        </tr>\n",
       "    </thead>\n",
       "    <tbody>\n",
       "        <tr>\n",
       "            <td>CREATE TABLE Item (<br>    ItemID INTEGER PRIMARY KEY,<br>    SellerID INTEGER,<br>    Name TEXT,<br>    Category TEXT,<br>    First_Bid REAL,<br>    Currently REAL,<br>    Number_of_Bids INTEGER,<br>    Buy_Price REAL,<br>    Location TEXT,<br>    Country TEXT,<br>    Started DATETIME,<br>    Ends DATETIME,<br>    Description TEXT,<br>    FOREIGN KEY (SellerID) REFERENCES Seller(UserID)<br>        ON DELETE CASCADE<br>)</td>\n",
       "        </tr>\n",
       "        <tr>\n",
       "            <td>CREATE TABLE Seller (<br>    UserID TEXT PRIMARY KEY,<br>    Rating INTEGER<br>)</td>\n",
       "        </tr>\n",
       "        <tr>\n",
       "            <td>None</td>\n",
       "        </tr>\n",
       "        <tr>\n",
       "            <td>CREATE TABLE Bid (<br>    ItemID INTEGER,<br>    Time DATETIME,<br>    Amount REAL,<br>    BidderID INTEGER,<br>    PRIMARY KEY(ItemID, Amount),<br>    FOREIGN KEY (BidderID) REFERENCES Bidder(UserID)<br>        ON DELETE CASCADE<br>)</td>\n",
       "        </tr>\n",
       "        <tr>\n",
       "            <td>None</td>\n",
       "        </tr>\n",
       "        <tr>\n",
       "            <td>CREATE TABLE Bidder (<br>    UserID TEXT PRIMARY KEY,<br>    Rating INTEGER,<br>    Location TEXT,<br>    Country TEXT<br>)</td>\n",
       "        </tr>\n",
       "        <tr>\n",
       "            <td>None</td>\n",
       "        </tr>\n",
       "    </tbody>\n",
       "</table>"
      ],
      "text/plain": [
       "[('CREATE TABLE Item (\\n    ItemID INTEGER PRIMARY KEY,\\n    SellerID INTEGER,\\n    Name TEXT,\\n    Category TEXT,\\n    First_Bid REAL,\\n    Currently R ... (94 characters truncated) ... n    Started DATETIME,\\n    Ends DATETIME,\\n    Description TEXT,\\n    FOREIGN KEY (SellerID) REFERENCES Seller(UserID)\\n        ON DELETE CASCADE\\n)',),\n",
       " ('CREATE TABLE Seller (\\n    UserID TEXT PRIMARY KEY,\\n    Rating INTEGER\\n)',),\n",
       " (None,),\n",
       " ('CREATE TABLE Bid (\\n    ItemID INTEGER,\\n    Time DATETIME,\\n    Amount REAL,\\n    BidderID INTEGER,\\n    PRIMARY KEY(ItemID, Amount),\\n    FOREIGN KEY (BidderID) REFERENCES Bidder(UserID)\\n        ON DELETE CASCADE\\n)',),\n",
       " (None,),\n",
       " ('CREATE TABLE Bidder (\\n    UserID TEXT PRIMARY KEY,\\n    Rating INTEGER,\\n    Location TEXT,\\n    Country TEXT\\n)',),\n",
       " (None,)]"
      ]
     },
     "execution_count": 3,
     "metadata": {},
     "output_type": "execute_result"
    }
   ],
   "source": [
    "%sql SELECT sql FROM sqlite_master;"
   ]
  },
  {
   "cell_type": "code",
   "execution_count": 4,
   "id": "742a6f6d",
   "metadata": {},
   "outputs": [
    {
     "name": "stdout",
     "output_type": "stream",
     "text": [
      " * sqlite:///AuctionBase.db\n",
      "Done.\n"
     ]
    },
    {
     "data": {
      "text/html": [
       "<table>\n",
       "    <thead>\n",
       "        <tr>\n",
       "            <th>UserID</th>\n",
       "            <th>Rating</th>\n",
       "            <th>Location</th>\n",
       "            <th>Country</th>\n",
       "        </tr>\n",
       "    </thead>\n",
       "    <tbody>\n",
       "    </tbody>\n",
       "</table>"
      ],
      "text/plain": [
       "[]"
      ]
     },
     "execution_count": 4,
     "metadata": {},
     "output_type": "execute_result"
    }
   ],
   "source": [
    "%sql SELECT * FROM Bidder"
   ]
  }
 ],
 "metadata": {
  "kernelspec": {
   "display_name": "Python 3 (ipykernel)",
   "language": "python",
   "name": "python3"
  },
  "language_info": {
   "codemirror_mode": {
    "name": "ipython",
    "version": 3
   },
   "file_extension": ".py",
   "mimetype": "text/x-python",
   "name": "python",
   "nbconvert_exporter": "python",
   "pygments_lexer": "ipython3",
   "version": "3.9.13"
  }
 },
 "nbformat": 4,
 "nbformat_minor": 5
}
